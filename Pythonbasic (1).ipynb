{
  "nbformat": 4,
  "nbformat_minor": 0,
  "metadata": {
    "colab": {
      "provenance": []
    },
    "kernelspec": {
      "name": "python3",
      "display_name": "Python 3"
    },
    "language_info": {
      "name": "python"
    }
  },
  "cells": [
    {
      "cell_type": "markdown",
      "source": [
        "#python basic\n"
      ],
      "metadata": {
        "id": "iIDEUU0qPSyU"
      }
    },
    {
      "cell_type": "markdown",
      "source": [
        "Q.1 What is python and why it is popular?\n",
        " - Python is a versatile, high-level programming language known for its simplicity and readability. It is popular due to its easy syntax, extensive libraries, cross-platform compatibility, and active community.\n",
        "\n",
        "Q.2 what is an interpreter in python?\n",
        "  \n",
        "  - An interpreter in Python executes code line by line, converting it to machine-readable instructions without prior compilation. It facilitates debugging and interactive coding.\n",
        "\n",
        "Q.3 What are predefined keywords in Python?\n",
        "  - Predefined keywords are reserved words in Python with specific meanings, like if, else, for, True, and None. They cannot be used as variable names.\n",
        "  \n",
        "Q.4 Can keywords be used as variable names?\n",
        "  - No, keywords in Python cannot be used as variable names. Keywords are reserved words that have special meaning in the language (e.g., if, for, class).\n",
        "\n",
        "Q.5 What is mutability in Python?\n",
        "   - Mutability refers to an object's ability to be modified after it is created. Mutable objects can be changed (e.g., lists, dictionaries), while immutable objects cannot (e.g., tuples, strings).\n",
        "\n",
        "Q.6 Why are lists mutable, but tuples are immutable?\n",
        "\n",
        "   - Lists are designed to allow modifications like adding, removing, or changing elements, making them suitable for dynamic data.\n",
        "   - Tuples, on the other hand, are meant to represent fixed collections of items, ensuring stability and hashability for use in keys or sets.\n",
        "\n",
        "Q.7 What is the difference between == and is operators in Python?\n",
        "\n",
        "\n",
        " -  (==) Compares the values of two objects to check if they are equal.\n",
        "        \n",
        " - (is) Checks if two objects refer to the same memory location (identity).\n",
        "\n",
        "\n",
        "Q.8 What are logical operators in Python?\n",
        "   \n",
        "  -  Logical operators are used to combine conditional statements:\n",
        "\n",
        "   (i)  and: Returns True if both conditions are true.\n",
        "\n",
        "   (ii)  or: Returns True if at least one condition is true.\n",
        "\n",
        "  (iii) not: Reverses the logical state of its operand.\n",
        "\n",
        "Q.9 What is type casting in Python?\n",
        "\n",
        "  - Type casting is converting one data type to another. For example, converting a string \"6\" to an integer 6 using int().\n",
        "\n",
        "Q.10 What is the difference between implicit and explicit type casting?\n",
        "\n",
        "  - Implicit casting: Automatically performed by Python when it converts data types during operations (e.g., int to float in arithmetic).\n",
        "\n",
        "  - Explicit casting: Manually performed by the programmer using functions like int(), float(), or str().\n",
        "\n",
        "\n",
        "Q.11 What is the purpose of conditional statements in Python?\n",
        "\n",
        "  - Conditional statements allow a program to make decisions based on\n",
        "  certain conditions, enabling it to execute different blocks of code based on the evaluation of expressions.\n",
        "\n",
        "Q.12 How does the elif statement work?\n",
        "\n",
        "  - The elif statement stands for \"else if\" and is used to check multiple\n",
        "   conditions sequentially. If the condition in the if statement is false, Python evaluates the elif conditions in order until one is true or the else block (if present) is executed.\n",
        "\n",
        "Q.13 What is the difference between for and while loops?\n",
        "\n",
        "  - for: Iterates over a sequence (like a list or range) and is typically used when the number of iterations is known.\n",
        "  - while: Repeats a block of code as long as a specified condition is\n",
        "   true, often used when the number of iterations depends on runtime conditions.\n",
        "\n",
        "Q.14 Describe a scenario where a while loop is more suitable than a for loop.\n",
        "\n",
        "  - A while loop is more suitable when the number of iterations is not    predetermined, such as waiting for user input or processing data until a certain condition is met (e.g., reading lines from a file until the end).\n",
        "\n",
        "\n",
        "\n",
        "\n",
        "\n",
        "\n",
        "\n",
        "  \n"
      ],
      "metadata": {
        "id": "Rw9fVDQUPhw7"
      }
    },
    {
      "cell_type": "code",
      "source": [
        "# Q.1 write a python programme to print \"Hello World\".\n",
        "print(\"Hello World\")\n"
      ],
      "metadata": {
        "colab": {
          "base_uri": "https://localhost:8080/"
        },
        "id": "WA3QItQRI_vu",
        "outputId": "ad676c66-8f7d-46cf-e5c0-0bf701f88056"
      },
      "execution_count": 109,
      "outputs": [
        {
          "output_type": "stream",
          "name": "stdout",
          "text": [
            "Hello World\n"
          ]
        }
      ]
    },
    {
      "cell_type": "code",
      "source": [
        "#Q.2 write a pyhon programme that display your name and age?\n",
        "name = \"Divya Saini\"\n",
        "Age = 27\n",
        "print( name, Age)"
      ],
      "metadata": {
        "colab": {
          "base_uri": "https://localhost:8080/"
        },
        "id": "LPdY0X9MKF8v",
        "outputId": "da4e3400-ea31-40c8-fcb2-01cf3aa16393"
      },
      "execution_count": null,
      "outputs": [
        {
          "output_type": "stream",
          "name": "stdout",
          "text": [
            "Divya Saini 27\n"
          ]
        }
      ]
    },
    {
      "cell_type": "code",
      "source": [
        "# Q.3 write code to print all the pre-defined keywords in python using the keyword library?\n",
        "b=help('keywords')\n",
        "print(b)"
      ],
      "metadata": {
        "id": "3N15BNY0K4PB",
        "colab": {
          "base_uri": "https://localhost:8080/"
        },
        "outputId": "27ae8533-e423-4a88-b91a-ba200a9d5b97"
      },
      "execution_count": 2,
      "outputs": [
        {
          "output_type": "stream",
          "name": "stdout",
          "text": [
            "\n",
            "Here is a list of the Python keywords.  Enter any keyword to get more help.\n",
            "\n",
            "False               class               from                or\n",
            "None                continue            global              pass\n",
            "True                def                 if                  raise\n",
            "and                 del                 import              return\n",
            "as                  elif                in                  try\n",
            "assert              else                is                  while\n",
            "async               except              lambda              with\n",
            "await               finally             nonlocal            yield\n",
            "break               for                 not                 \n",
            "\n",
            "None\n"
          ]
        }
      ]
    },
    {
      "cell_type": "code",
      "source": [
        "# Q.4 write a program that check if a given words is a python keyword.\n",
        "import keyword\n",
        "keyword.iskeyword('or')\n",
        "print(keyword.iskeyword('ria'))\n",
        "print(keyword.iskeyword('if'))\n",
        "\n",
        "\n"
      ],
      "metadata": {
        "id": "-OlEYw00MBy5",
        "colab": {
          "base_uri": "https://localhost:8080/"
        },
        "outputId": "c449ba21-a1dc-4a02-bbab-73dbb702336b"
      },
      "execution_count": 91,
      "outputs": [
        {
          "output_type": "stream",
          "name": "stdout",
          "text": [
            "False\n",
            "True\n"
          ]
        }
      ]
    },
    {
      "cell_type": "code",
      "source": [
        "# Q.5 create a list and tuple in the python, and demonsrtrate how attemptong to change an elemnets work differently for each.\n",
        "lis = [ 1,2,3.4, 4+3j, \"shanaya\", \"ria\"]  # In the list we can put any type of data # list is mutable\n",
        "tuple = ( 1,2,3,5+6j,\"shalu\", True)        # In tuple we can also put any type of data but tuple is an immutable\n",
        "\n"
      ],
      "metadata": {
        "id": "xOYe78PnP0r5"
      },
      "execution_count": 8,
      "outputs": []
    },
    {
      "cell_type": "code",
      "source": [
        "list[5] = \"divya\" # here we change the name from ria to divya # this show that we can change elements in the list thus it is mutable."
      ],
      "metadata": {
        "id": "eYl0fnc3RSjp"
      },
      "execution_count": 13,
      "outputs": []
    },
    {
      "cell_type": "code",
      "source": [
        "print(list)"
      ],
      "metadata": {
        "id": "hkUEwLzPR8Rc",
        "colab": {
          "base_uri": "https://localhost:8080/"
        },
        "outputId": "44e3a937-add9-4eb3-e98f-2b6f856fa061"
      },
      "execution_count": 14,
      "outputs": [
        {
          "output_type": "stream",
          "name": "stdout",
          "text": [
            "[1, 2, 3.4, (4+3j), 'shanaya', 'divya']\n"
          ]
        }
      ]
    },
    {
      "cell_type": "code",
      "source": [
        "tuple[4] = \"Divya\" # this error show that we can not change the element of tuple."
      ],
      "metadata": {
        "colab": {
          "base_uri": "https://localhost:8080/",
          "height": 141
        },
        "id": "Yu_9N8JYD4UD",
        "outputId": "4d6e389b-3d17-4433-d69a-10d9991eaefb"
      },
      "execution_count": 17,
      "outputs": [
        {
          "output_type": "error",
          "ename": "TypeError",
          "evalue": "'tuple' object does not support item assignment",
          "traceback": [
            "\u001b[0;31m---------------------------------------------------------------------------\u001b[0m",
            "\u001b[0;31mTypeError\u001b[0m                                 Traceback (most recent call last)",
            "\u001b[0;32m<ipython-input-17-afa2eb19cd8c>\u001b[0m in \u001b[0;36m<cell line: 1>\u001b[0;34m()\u001b[0m\n\u001b[0;32m----> 1\u001b[0;31m \u001b[0mtuple\u001b[0m\u001b[0;34m[\u001b[0m\u001b[0;36m4\u001b[0m\u001b[0;34m]\u001b[0m \u001b[0;34m=\u001b[0m \u001b[0;34m\"Divya\"\u001b[0m\u001b[0;34m\u001b[0m\u001b[0;34m\u001b[0m\u001b[0m\n\u001b[0m",
            "\u001b[0;31mTypeError\u001b[0m: 'tuple' object does not support item assignment"
          ]
        }
      ]
    },
    {
      "cell_type": "code",
      "source": [
        "# Q.6 write a function to demonstrate the behaviour of mutable and immutable arguments.\n",
        "# mutability means that the value can be change after they are created.\n",
        "a = [\"mango\", 'apple', 'banana']\n",
        "type(a)"
      ],
      "metadata": {
        "colab": {
          "base_uri": "https://localhost:8080/"
        },
        "id": "NLFHVDUaELf-",
        "outputId": "fa09d713-5dcb-42ee-8a5e-04c06570eaec"
      },
      "execution_count": 19,
      "outputs": [
        {
          "output_type": "execute_result",
          "data": {
            "text/plain": [
              "list"
            ]
          },
          "metadata": {},
          "execution_count": 19
        }
      ]
    },
    {
      "cell_type": "code",
      "source": [
        "a[2] = \"papaya\"  # this show that \"a\" is mutable object.\n",
        "print(a)"
      ],
      "metadata": {
        "colab": {
          "base_uri": "https://localhost:8080/"
        },
        "id": "8-gmLcNeF0OT",
        "outputId": "b7b0653a-021f-4a06-cc40-480e1b4cd186"
      },
      "execution_count": 23,
      "outputs": [
        {
          "output_type": "stream",
          "name": "stdout",
          "text": [
            "['mamgo', 'apple', 'papaya']\n"
          ]
        }
      ]
    },
    {
      "cell_type": "code",
      "source": [
        "b = (\"mango\", 'apple', 'banana')\n",
        "type(b)"
      ],
      "metadata": {
        "colab": {
          "base_uri": "https://localhost:8080/"
        },
        "id": "qrhmTmSRF7c1",
        "outputId": "c6bc8217-2c8b-4aa5-ed87-b881e2708053"
      },
      "execution_count": 24,
      "outputs": [
        {
          "output_type": "execute_result",
          "data": {
            "text/plain": [
              "tuple"
            ]
          },
          "metadata": {},
          "execution_count": 24
        }
      ]
    },
    {
      "cell_type": "code",
      "source": [
        "b[2] = \"papaya\" #this show that b is an immutable object."
      ],
      "metadata": {
        "colab": {
          "base_uri": "https://localhost:8080/",
          "height": 141
        },
        "id": "NlOmWLD3GMbW",
        "outputId": "8a5d5184-e28e-4648-cf7a-140b5de2e322"
      },
      "execution_count": 26,
      "outputs": [
        {
          "output_type": "error",
          "ename": "TypeError",
          "evalue": "'tuple' object does not support item assignment",
          "traceback": [
            "\u001b[0;31m---------------------------------------------------------------------------\u001b[0m",
            "\u001b[0;31mTypeError\u001b[0m                                 Traceback (most recent call last)",
            "\u001b[0;32m<ipython-input-26-eb4f8ce3cbce>\u001b[0m in \u001b[0;36m<cell line: 1>\u001b[0;34m()\u001b[0m\n\u001b[0;32m----> 1\u001b[0;31m \u001b[0mb\u001b[0m\u001b[0;34m[\u001b[0m\u001b[0;36m2\u001b[0m\u001b[0;34m]\u001b[0m \u001b[0;34m=\u001b[0m \u001b[0;34m\"papaya\"\u001b[0m\u001b[0;34m\u001b[0m\u001b[0;34m\u001b[0m\u001b[0m\n\u001b[0m",
            "\u001b[0;31mTypeError\u001b[0m: 'tuple' object does not support item assignment"
          ]
        }
      ]
    },
    {
      "cell_type": "code",
      "source": [
        "# Q.7 write a programe to demonstrate the use of logical operator.\n",
        "# there are 3 types of logical operators:- and , or , not.\n",
        "True and True\n"
      ],
      "metadata": {
        "colab": {
          "base_uri": "https://localhost:8080/"
        },
        "id": "sckvk7Z8GPxy",
        "outputId": "86afb1fb-0297-4553-ac02-df3b8be79bb7"
      },
      "execution_count": 30,
      "outputs": [
        {
          "output_type": "execute_result",
          "data": {
            "text/plain": [
              "True"
            ]
          },
          "metadata": {},
          "execution_count": 30
        }
      ]
    },
    {
      "cell_type": "code",
      "source": [
        "True and False\n"
      ],
      "metadata": {
        "colab": {
          "base_uri": "https://localhost:8080/"
        },
        "id": "yvJDuKXSIq_i",
        "outputId": "d0407eec-b390-4d1e-dab0-b8790733be9e"
      },
      "execution_count": 45,
      "outputs": [
        {
          "output_type": "execute_result",
          "data": {
            "text/plain": [
              "False"
            ]
          },
          "metadata": {},
          "execution_count": 45
        }
      ]
    },
    {
      "cell_type": "code",
      "source": [
        "False and True"
      ],
      "metadata": {
        "colab": {
          "base_uri": "https://localhost:8080/"
        },
        "id": "L8JFh-uLIwNU",
        "outputId": "eb25519b-77f6-4cbb-8c15-8b912a419572"
      },
      "execution_count": 33,
      "outputs": [
        {
          "output_type": "execute_result",
          "data": {
            "text/plain": [
              "False"
            ]
          },
          "metadata": {},
          "execution_count": 33
        }
      ]
    },
    {
      "cell_type": "code",
      "source": [
        "False and False"
      ],
      "metadata": {
        "colab": {
          "base_uri": "https://localhost:8080/"
        },
        "id": "WcCXY0CoIyFj",
        "outputId": "930082f7-af61-4d0e-af9e-ea18fd7fcd68"
      },
      "execution_count": 34,
      "outputs": [
        {
          "output_type": "execute_result",
          "data": {
            "text/plain": [
              "False"
            ]
          },
          "metadata": {},
          "execution_count": 34
        }
      ]
    },
    {
      "cell_type": "code",
      "source": [
        "True or True"
      ],
      "metadata": {
        "colab": {
          "base_uri": "https://localhost:8080/"
        },
        "id": "q8BhdMKYI6-t",
        "outputId": "e138cb47-a87a-4244-eae3-fc1cca8088b9"
      },
      "execution_count": 35,
      "outputs": [
        {
          "output_type": "execute_result",
          "data": {
            "text/plain": [
              "True"
            ]
          },
          "metadata": {},
          "execution_count": 35
        }
      ]
    },
    {
      "cell_type": "code",
      "source": [
        "True or False"
      ],
      "metadata": {
        "colab": {
          "base_uri": "https://localhost:8080/"
        },
        "id": "pkgJFNoDJKNh",
        "outputId": "5d1c5b2e-3403-4572-d76e-e5a1331b28e5"
      },
      "execution_count": 36,
      "outputs": [
        {
          "output_type": "execute_result",
          "data": {
            "text/plain": [
              "True"
            ]
          },
          "metadata": {},
          "execution_count": 36
        }
      ]
    },
    {
      "cell_type": "code",
      "source": [
        "False or True"
      ],
      "metadata": {
        "colab": {
          "base_uri": "https://localhost:8080/"
        },
        "id": "hzc-vZ8LJOK-",
        "outputId": "68e76a4f-f792-49c0-bd34-7f4f2e9036fd"
      },
      "execution_count": 38,
      "outputs": [
        {
          "output_type": "execute_result",
          "data": {
            "text/plain": [
              "True"
            ]
          },
          "metadata": {},
          "execution_count": 38
        }
      ]
    },
    {
      "cell_type": "code",
      "source": [
        "False or False"
      ],
      "metadata": {
        "colab": {
          "base_uri": "https://localhost:8080/"
        },
        "id": "DL4iOz42JSjP",
        "outputId": "a8ca27f3-e8ac-4f89-c319-b602be3b654c"
      },
      "execution_count": 39,
      "outputs": [
        {
          "output_type": "execute_result",
          "data": {
            "text/plain": [
              "False"
            ]
          },
          "metadata": {},
          "execution_count": 39
        }
      ]
    },
    {
      "cell_type": "code",
      "source": [
        "not True"
      ],
      "metadata": {
        "colab": {
          "base_uri": "https://localhost:8080/"
        },
        "id": "ONMeHDaMJYE6",
        "outputId": "c03b1c4d-f227-4097-92e2-209fad143b21"
      },
      "execution_count": 41,
      "outputs": [
        {
          "output_type": "execute_result",
          "data": {
            "text/plain": [
              "False"
            ]
          },
          "metadata": {},
          "execution_count": 41
        }
      ]
    },
    {
      "cell_type": "code",
      "source": [
        "not False"
      ],
      "metadata": {
        "colab": {
          "base_uri": "https://localhost:8080/"
        },
        "id": "JZPP30y-JaEU",
        "outputId": "73f4c51c-0311-4502-a209-1572ed737c91"
      },
      "execution_count": 42,
      "outputs": [
        {
          "output_type": "execute_result",
          "data": {
            "text/plain": [
              "True"
            ]
          },
          "metadata": {},
          "execution_count": 42
        }
      ]
    },
    {
      "cell_type": "code",
      "source": [
        "# Q.8 write a programe to convert user input from string to integers , float and boolean types.\n",
        "a = \"4\""
      ],
      "metadata": {
        "id": "PuF9JKYgJgYV"
      },
      "execution_count": 46,
      "outputs": []
    },
    {
      "cell_type": "code",
      "source": [
        "type(a)"
      ],
      "metadata": {
        "colab": {
          "base_uri": "https://localhost:8080/"
        },
        "id": "uLoxcHmALKl3",
        "outputId": "1faf6849-658a-416c-d7e4-a8f642e767b6"
      },
      "execution_count": 47,
      "outputs": [
        {
          "output_type": "execute_result",
          "data": {
            "text/plain": [
              "str"
            ]
          },
          "metadata": {},
          "execution_count": 47
        }
      ]
    },
    {
      "cell_type": "code",
      "source": [
        "int(a) # string converted to integer."
      ],
      "metadata": {
        "colab": {
          "base_uri": "https://localhost:8080/"
        },
        "id": "BDFSVzW1LMFM",
        "outputId": "c4c6880f-bf5b-4689-ddb2-2ba84d4ae29f"
      },
      "execution_count": 48,
      "outputs": [
        {
          "output_type": "execute_result",
          "data": {
            "text/plain": [
              "4"
            ]
          },
          "metadata": {},
          "execution_count": 48
        }
      ]
    },
    {
      "cell_type": "code",
      "source": [
        "float(a) # string converted to float."
      ],
      "metadata": {
        "colab": {
          "base_uri": "https://localhost:8080/"
        },
        "id": "ZQD_GVtzLOMR",
        "outputId": "30290016-0d23-43bf-da6e-d763fa36ae4e"
      },
      "execution_count": 49,
      "outputs": [
        {
          "output_type": "execute_result",
          "data": {
            "text/plain": [
              "4.0"
            ]
          },
          "metadata": {},
          "execution_count": 49
        }
      ]
    },
    {
      "cell_type": "code",
      "source": [
        "bool(a) # string converted to boolean value. # note any no. except 0 is true, either that no. is negative or positive."
      ],
      "metadata": {
        "colab": {
          "base_uri": "https://localhost:8080/"
        },
        "id": "_cUYhFzsLVCQ",
        "outputId": "ecb9da3c-4006-421e-8f69-362412ebe03a"
      },
      "execution_count": 51,
      "outputs": [
        {
          "output_type": "execute_result",
          "data": {
            "text/plain": [
              "True"
            ]
          },
          "metadata": {},
          "execution_count": 51
        }
      ]
    },
    {
      "cell_type": "code",
      "source": [
        "# Q.9 write code to demonstrate type casting with list elements.\n",
        "a = [ 24, 45,60.7, 23.5,\"divya\" ,True, False]\n",
        "# type casting is changing one type of data into the other type\n",
        "## sir i am not able to solve this question ##\n"
      ],
      "metadata": {
        "id": "ubnnJ5UCLcU9"
      },
      "execution_count": 108,
      "outputs": []
    },
    {
      "cell_type": "markdown",
      "source": [],
      "metadata": {
        "id": "Rj5-j4srk6Sz"
      }
    },
    {
      "cell_type": "code",
      "source": [
        "# Q.10 write a programe that check if a number is positive negative or zero.\n",
        "a = 12\n",
        "if a >0:\n",
        "  print (\"a is positive\")\n",
        "elif a<0:\n",
        "  print(\"a is negative\")\n",
        "else :\n",
        "  print(\"a is zero\")\n"
      ],
      "metadata": {
        "colab": {
          "base_uri": "https://localhost:8080/"
        },
        "id": "8Nu93-IvO-vo",
        "outputId": "10fe549d-b90c-4f49-ee4d-472d5889d026"
      },
      "execution_count": 66,
      "outputs": [
        {
          "output_type": "stream",
          "name": "stdout",
          "text": [
            "a is positive\n"
          ]
        }
      ]
    },
    {
      "cell_type": "code",
      "source": [
        "a = -10\n",
        "if a >0:\n",
        "  print (\"a is positive\")\n",
        "elif a<0:\n",
        "  print(\"a is negative\")\n",
        "else :\n",
        "  print(\"a is zero\")\n"
      ],
      "metadata": {
        "colab": {
          "base_uri": "https://localhost:8080/"
        },
        "id": "Aa0mINMXR1wY",
        "outputId": "a3b058c6-b372-468d-f115-ec521dd074ca"
      },
      "execution_count": 67,
      "outputs": [
        {
          "output_type": "stream",
          "name": "stdout",
          "text": [
            "a is negative\n"
          ]
        }
      ]
    },
    {
      "cell_type": "code",
      "source": [
        "a = 0\n",
        "if a >0:\n",
        "  print (\"a is positive\")\n",
        "elif a<0:\n",
        "  print(\"a is negative\")\n",
        "else :\n",
        "  print(\"a is zero\")"
      ],
      "metadata": {
        "colab": {
          "base_uri": "https://localhost:8080/"
        },
        "id": "b3hm6C9hSCke",
        "outputId": "2d3e5801-f418-4ebe-b127-5e683ef896e3"
      },
      "execution_count": 68,
      "outputs": [
        {
          "output_type": "stream",
          "name": "stdout",
          "text": [
            "a is zero\n"
          ]
        }
      ]
    },
    {
      "cell_type": "code",
      "source": [
        "# Q. 11 Write a for loop to print number from 1 to 10\n",
        "for i in range(1,11):\n",
        "  print(i)"
      ],
      "metadata": {
        "colab": {
          "base_uri": "https://localhost:8080/"
        },
        "id": "ni-3hRp7SHKm",
        "outputId": "59c065c1-de12-4dd9-814f-1b1b85b2160f"
      },
      "execution_count": 74,
      "outputs": [
        {
          "output_type": "stream",
          "name": "stdout",
          "text": [
            "1\n",
            "2\n",
            "3\n",
            "4\n",
            "5\n",
            "6\n",
            "7\n",
            "8\n",
            "9\n",
            "10\n"
          ]
        }
      ]
    },
    {
      "cell_type": "code",
      "source": [
        "for i in range (1,11):\n",
        "  print(i, end = \" \")"
      ],
      "metadata": {
        "colab": {
          "base_uri": "https://localhost:8080/"
        },
        "id": "s9LnuxuTWmdQ",
        "outputId": "c62c42fc-4a12-45e4-9f6f-f79e90a8f43f"
      },
      "execution_count": 81,
      "outputs": [
        {
          "output_type": "stream",
          "name": "stdout",
          "text": [
            "1 2 3 4 5 6 7 8 9 10 "
          ]
        }
      ]
    },
    {
      "cell_type": "code",
      "source": [
        "#Q.12 write a pyhton programe to find the sum of all even numbers from 1 to 50.\n",
        "sum = 0\n",
        "for i in range(1,51):\n",
        "  if i%2==0:\n",
        "    sum = sum+i\n",
        "print(sum)"
      ],
      "metadata": {
        "colab": {
          "base_uri": "https://localhost:8080/"
        },
        "id": "hRF5a1n0TIX4",
        "outputId": "563238aa-905a-4ba4-ca22-2552c99d662e"
      },
      "execution_count": 77,
      "outputs": [
        {
          "output_type": "stream",
          "name": "stdout",
          "text": [
            "650\n"
          ]
        }
      ]
    },
    {
      "cell_type": "code",
      "source": [
        "#Q.13 write a programe to reverse a string using a while loop.\n",
        "\n",
        "string1 = input(\"Divya\")\n",
        "reverse=\"\"\n",
        "i = len(string1)-1\n",
        "while i>=0:\n",
        "  reverse = reverse+string1[i]\n",
        "  i = i-1\n",
        "print(reverse)"
      ],
      "metadata": {
        "colab": {
          "base_uri": "https://localhost:8080/"
        },
        "id": "NVphanROTmns",
        "outputId": "e5bc719f-9418-4742-9a58-e96a681552c9"
      },
      "execution_count": 102,
      "outputs": [
        {
          "output_type": "stream",
          "name": "stdout",
          "text": [
            "Divya Saini\n",
            "iniaS \n"
          ]
        }
      ]
    },
    {
      "cell_type": "code",
      "source": [
        "#Q.14 write a python programe to calculate the factorial of a number provided by the user using a while loop\n",
        "n = int(input(\"enter any number\"))\n",
        "fact = 1\n",
        "i = 1\n",
        "while i<=n:\n",
        "  fact = fact*i\n",
        "  i = i+1\n",
        "print(fact)"
      ],
      "metadata": {
        "colab": {
          "base_uri": "https://localhost:8080/"
        },
        "id": "B7bDFe_xW4cu",
        "outputId": "943136a5-7f75-45b2-8761-d4863cf35bc3"
      },
      "execution_count": 105,
      "outputs": [
        {
          "output_type": "stream",
          "name": "stdout",
          "text": [
            "enter any number6\n",
            "720\n"
          ]
        }
      ]
    },
    {
      "cell_type": "code",
      "source": [],
      "metadata": {
        "id": "GmvQA6DBW4fw"
      },
      "execution_count": 105,
      "outputs": []
    }
  ]
}